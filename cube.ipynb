{
 "cells": [
  {
   "cell_type": "code",
   "execution_count": 9,
   "metadata": {},
   "outputs": [],
   "source": [
    "import numpy as np"
   ]
  },
  {
   "cell_type": "code",
   "execution_count": 285,
   "metadata": {},
   "outputs": [],
   "source": [
    "class Cube:\n",
    "    def __init__(self):\n",
    "        self.cube = np.zeros((6, 3, 3)).astype(object)\n",
    "        self.colors = ['W', 'G', 'Y', 'B', 'R', 'O']\n",
    "        for i, c in enumerate(self.colors):\n",
    "            self.cube[i] = c\n",
    "        \n",
    "        self.front = self.cube[0]\n",
    "        self.up = self.cube[1]\n",
    "        self.back = self.cube[2]\n",
    "        self.down = self.cube[3]\n",
    "        self.left = self.cube[4]\n",
    "        self.right = self.cube[5]\n",
    "    \n",
    "    def __getitem__(self, key):\n",
    "        return getattr(self, key)\n",
    "    \n",
    "    def rotate_u(self):\n",
    "        # Performing an U: Up and the bottom are not changed\n",
    "        self.up = np.rot90(self.up, k=3)\n",
    "        self.down = self.down\n",
    "        temp = self.front.copy()\n",
    "        self.front[0] = self.right[0]\n",
    "        self.right[0] = self.back[0]\n",
    "        self.back[0] = self.left[0]\n",
    "        self.left[0] = temp[0]\n",
    "        return self.__repr__()\n",
    "    \n",
    "    def __str__(self):\n",
    "        return self.cube.__str__()\n",
    "    \n",
    "    def __repr__(self):\n",
    "        return self.cube.__repr__()"
   ]
  },
  {
   "cell_type": "code",
   "execution_count": 286,
   "metadata": {},
   "outputs": [
    {
     "data": {
      "text/plain": [
       "array([[['W', 'W', 'W'],\n",
       "        ['W', 'W', 'W'],\n",
       "        ['W', 'W', 'W']],\n",
       "\n",
       "       [['G', 'G', 'G'],\n",
       "        ['G', 'G', 'G'],\n",
       "        ['G', 'G', 'G']],\n",
       "\n",
       "       [['Y', 'Y', 'Y'],\n",
       "        ['Y', 'Y', 'Y'],\n",
       "        ['Y', 'Y', 'Y']],\n",
       "\n",
       "       [['B', 'B', 'B'],\n",
       "        ['B', 'B', 'B'],\n",
       "        ['B', 'B', 'B']],\n",
       "\n",
       "       [['R', 'R', 'R'],\n",
       "        ['R', 'R', 'R'],\n",
       "        ['R', 'R', 'R']],\n",
       "\n",
       "       [['O', 'O', 'O'],\n",
       "        ['O', 'O', 'O'],\n",
       "        ['O', 'O', 'O']]], dtype=object)"
      ]
     },
     "execution_count": 286,
     "metadata": {},
     "output_type": "execute_result"
    }
   ],
   "source": [
    "cube = Cube()\n",
    "cube"
   ]
  },
  {
   "cell_type": "code",
   "execution_count": 290,
   "metadata": {},
   "outputs": [
    {
     "name": "stdout",
     "output_type": "stream",
     "text": [
      "array([[['W', 'W', 'W'],\n",
      "        ['W', 'W', 'W'],\n",
      "        ['W', 'W', 'W']],\n",
      "\n",
      "       [['G', 'G', 'G'],\n",
      "        ['G', 'G', 'G'],\n",
      "        ['G', 'G', 'G']],\n",
      "\n",
      "       [['Y', 'Y', 'Y'],\n",
      "        ['Y', 'Y', 'Y'],\n",
      "        ['Y', 'Y', 'Y']],\n",
      "\n",
      "       [['B', 'B', 'B'],\n",
      "        ['B', 'B', 'B'],\n",
      "        ['B', 'B', 'B']],\n",
      "\n",
      "       [['R', 'R', 'R'],\n",
      "        ['R', 'R', 'R'],\n",
      "        ['R', 'R', 'R']],\n",
      "\n",
      "       [['O', 'O', 'O'],\n",
      "        ['O', 'O', 'O'],\n",
      "        ['O', 'O', 'O']]], dtype=object)\n"
     ]
    }
   ],
   "source": [
    "print(cube.rotate_u())"
   ]
  },
  {
   "cell_type": "code",
   "execution_count": 256,
   "metadata": {},
   "outputs": [],
   "source": [
    "cube = np.zeros((6, 3, 3)).astype(object)\n",
    "colors = ['W', 'G', 'Y', 'B', 'R', 'O']\n",
    "for i, c in enumerate(colors):\n",
    "    cube[i] = c\n",
    "front = cube[0]\n",
    "up = cube[1]\n",
    "back = cube[2]\n",
    "down = cube[3]\n",
    "left = cube[4]\n",
    "right = cube[5]"
   ]
  },
  {
   "cell_type": "markdown",
   "metadata": {},
   "source": [
    "# U"
   ]
  },
  {
   "cell_type": "code",
   "execution_count": 255,
   "metadata": {
    "collapsed": true
   },
   "outputs": [
    {
     "data": {
      "text/plain": [
       "array([[['W', 'W', 'W'],\n",
       "        ['W', 'W', 'W'],\n",
       "        ['W', 'W', 'W']],\n",
       "\n",
       "       [['G', 'G', 'G'],\n",
       "        ['G', 'G', 'G'],\n",
       "        ['G', 'G', 'G']],\n",
       "\n",
       "       [['Y', 'Y', 'Y'],\n",
       "        ['Y', 'Y', 'Y'],\n",
       "        ['Y', 'Y', 'Y']],\n",
       "\n",
       "       [['B', 'B', 'B'],\n",
       "        ['B', 'B', 'B'],\n",
       "        ['B', 'B', 'B']],\n",
       "\n",
       "       [['R', 'R', 'R'],\n",
       "        ['R', 'R', 'R'],\n",
       "        ['R', 'R', 'R']],\n",
       "\n",
       "       [['O', 'O', 'O'],\n",
       "        ['O', 'O', 'O'],\n",
       "        ['O', 'O', 'O']]], dtype=object)"
      ]
     },
     "execution_count": 255,
     "metadata": {},
     "output_type": "execute_result"
    }
   ],
   "source": [
    "# Performing an U: Up and the bottom are not changed\n",
    "up = np.rot90(up, k=3)\n",
    "down = down\n",
    "temp = front.copy()\n",
    "front[0] = right[0]\n",
    "right[0] = back[0]\n",
    "back[0] = left[0]\n",
    "left[0] = temp[0]"
   ]
  },
  {
   "cell_type": "markdown",
   "metadata": {},
   "source": [
    "# U'"
   ]
  },
  {
   "cell_type": "code",
   "execution_count": 242,
   "metadata": {
    "collapsed": true
   },
   "outputs": [
    {
     "data": {
      "text/plain": [
       "array([[[1, 1, 1],\n",
       "        [1, 1, 1],\n",
       "        [1, 1, 1]],\n",
       "\n",
       "       [[2, 2, 2],\n",
       "        [2, 2, 2],\n",
       "        [2, 2, 2]],\n",
       "\n",
       "       [[3, 3, 3],\n",
       "        [3, 3, 3],\n",
       "        [3, 3, 3]],\n",
       "\n",
       "       [[4, 4, 4],\n",
       "        [4, 4, 4],\n",
       "        [4, 4, 4]],\n",
       "\n",
       "       [[5, 5, 5],\n",
       "        [5, 5, 5],\n",
       "        [5, 5, 5]],\n",
       "\n",
       "       [[6, 6, 6],\n",
       "        [6, 6, 6],\n",
       "        [6, 6, 6]]], dtype=object)"
      ]
     },
     "execution_count": 242,
     "metadata": {},
     "output_type": "execute_result"
    }
   ],
   "source": [
    "# Performing an U: Up and the bottom are not changed\n",
    "up = np.rot90(up)\n",
    "down = down\n",
    "temp = front.copy()\n",
    "front[0] = left[0]\n",
    "left[0] = back[0]\n",
    "back[0] = right[0]\n",
    "right[0] = temp[0]"
   ]
  },
  {
   "cell_type": "markdown",
   "metadata": {},
   "source": [
    "# D"
   ]
  },
  {
   "cell_type": "code",
   "execution_count": 217,
   "metadata": {
    "collapsed": true
   },
   "outputs": [
    {
     "data": {
      "text/plain": [
       "array([[[1, 1, 1],\n",
       "        [1, 1, 1],\n",
       "        [1, 1, 1]],\n",
       "\n",
       "       [[2, 2, 2],\n",
       "        [2, 2, 2],\n",
       "        [2, 2, 2]],\n",
       "\n",
       "       [[3, 3, 3],\n",
       "        [3, 3, 3],\n",
       "        [3, 3, 3]],\n",
       "\n",
       "       [[4, 4, 4],\n",
       "        [4, 4, 4],\n",
       "        [4, 4, 4]],\n",
       "\n",
       "       [[5, 5, 5],\n",
       "        [5, 5, 5],\n",
       "        [5, 5, 5]],\n",
       "\n",
       "       [[6, 6, 6],\n",
       "        [6, 6, 6],\n",
       "        [6, 6, 6]]], dtype=object)"
      ]
     },
     "execution_count": 217,
     "metadata": {},
     "output_type": "execute_result"
    }
   ],
   "source": [
    "# Performing an D: Up and the bottom are not changed\n",
    "down = np.rot90(down)\n",
    "up = up\n",
    "temp = front.copy()\n",
    "front[2] = left[2]\n",
    "left[2] = back[2]\n",
    "back[2] = right[2]\n",
    "right[2] = temp[2]"
   ]
  },
  {
   "cell_type": "markdown",
   "metadata": {},
   "source": [
    "# D'"
   ]
  },
  {
   "cell_type": "code",
   "execution_count": 246,
   "metadata": {},
   "outputs": [
    {
     "data": {
      "text/plain": [
       "array([[[1, 1, 1],\n",
       "        [1, 1, 1],\n",
       "        [1, 1, 1]],\n",
       "\n",
       "       [[2, 2, 2],\n",
       "        [2, 2, 2],\n",
       "        [2, 2, 2]],\n",
       "\n",
       "       [[3, 3, 3],\n",
       "        [3, 3, 3],\n",
       "        [3, 3, 3]],\n",
       "\n",
       "       [[4, 4, 4],\n",
       "        [4, 4, 4],\n",
       "        [4, 4, 4]],\n",
       "\n",
       "       [[5, 5, 5],\n",
       "        [5, 5, 5],\n",
       "        [5, 5, 5]],\n",
       "\n",
       "       [[6, 6, 6],\n",
       "        [6, 6, 6],\n",
       "        [6, 6, 6]]], dtype=object)"
      ]
     },
     "execution_count": 246,
     "metadata": {},
     "output_type": "execute_result"
    }
   ],
   "source": [
    "# Performing an D: Up and the bottom are not changed\n",
    "down = np.rot90(down, k=3)\n",
    "up = up\n",
    "temp = front.copy()\n",
    "front[2] = right[2]\n",
    "right[2] = back[2]\n",
    "back[2] = left[2]\n",
    "left[2] = temp[2]"
   ]
  },
  {
   "cell_type": "code",
   "execution_count": 220,
   "metadata": {},
   "outputs": [],
   "source": [
    "x = np.arange(9).reshape(3, 3)+1"
   ]
  },
  {
   "cell_type": "code",
   "execution_count": 194,
   "metadata": {},
   "outputs": [
    {
     "data": {
      "text/plain": [
       "array([[[1, 1, 1],\n",
       "        [1, 1, 1],\n",
       "        [1, 1, 1]],\n",
       "\n",
       "       [[2, 2, 2],\n",
       "        [2, 2, 2],\n",
       "        [2, 2, 2]],\n",
       "\n",
       "       [[3, 3, 3],\n",
       "        [3, 3, 3],\n",
       "        [3, 3, 3]],\n",
       "\n",
       "       [[4, 4, 4],\n",
       "        [4, 4, 4],\n",
       "        [4, 4, 4]],\n",
       "\n",
       "       [[5, 5, 5],\n",
       "        [5, 5, 5],\n",
       "        [5, 5, 5]],\n",
       "\n",
       "       [[6, 6, 6],\n",
       "        [6, 6, 6],\n",
       "        [6, 6, 6]]], dtype=object)"
      ]
     },
     "execution_count": 194,
     "metadata": {},
     "output_type": "execute_result"
    }
   ],
   "source": [
    "up = np.rot90(up, k=3)\n",
    "down = down\n",
    "temp = front.copy()\n",
    "front[0] = right[0]\n",
    "right[0] = back[0]\n",
    "back[0] = left[0]\n",
    "left[0] = temp[0]"
   ]
  },
  {
   "cell_type": "code",
   "execution_count": 130,
   "metadata": {},
   "outputs": [],
   "source": [
    "x = np.arange(9).reshape(3, 3)+1"
   ]
  },
  {
   "cell_type": "code",
   "execution_count": 152,
   "metadata": {},
   "outputs": [
    {
     "data": {
      "text/plain": [
       "array([[7, 4, 1],\n",
       "       [8, 5, 2],\n",
       "       [9, 6, 3]])"
      ]
     },
     "execution_count": 152,
     "metadata": {},
     "output_type": "execute_result"
    }
   ],
   "source": [
    "np.rot90(x.T).T"
   ]
  },
  {
   "cell_type": "code",
   "execution_count": 148,
   "metadata": {},
   "outputs": [
    {
     "data": {
      "text/plain": [
       "array([[1, 4, 7],\n",
       "       [2, 5, 8],\n",
       "       [3, 6, 9]])"
      ]
     },
     "execution_count": 148,
     "metadata": {},
     "output_type": "execute_result"
    }
   ],
   "source": [
    "np.array([[1, 2, 3], [4, 5, 6], [7, 8, 9]]).T"
   ]
  },
  {
   "cell_type": "code",
   "execution_count": null,
   "metadata": {},
   "outputs": [],
   "source": []
  },
  {
   "cell_type": "code",
   "execution_count": null,
   "metadata": {},
   "outputs": [],
   "source": [
    "np.array([[1, 2, 1], [4, 5, 2], [7, 8, 3]])"
   ]
  },
  {
   "cell_type": "code",
   "execution_count": 146,
   "metadata": {},
   "outputs": [
    {
     "data": {
      "text/plain": [
       "array([[6, 9, 1],\n",
       "       [4, 7, 2],\n",
       "       [5, 8, 3]])"
      ]
     },
     "execution_count": 146,
     "metadata": {},
     "output_type": "execute_result"
    }
   ],
   "source": [
    "np.roll(x.T, 2)"
   ]
  },
  {
   "cell_type": "code",
   "execution_count": null,
   "metadata": {},
   "outputs": [],
   "source": []
  }
 ],
 "metadata": {
  "kernelspec": {
   "display_name": "Python 3",
   "language": "python",
   "name": "python3"
  },
  "language_info": {
   "codemirror_mode": {
    "name": "ipython",
    "version": 3
   },
   "file_extension": ".py",
   "mimetype": "text/x-python",
   "name": "python",
   "nbconvert_exporter": "python",
   "pygments_lexer": "ipython3",
   "version": "3.6.8"
  }
 },
 "nbformat": 4,
 "nbformat_minor": 2
}
